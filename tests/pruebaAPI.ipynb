{
 "cells": [
  {
   "cell_type": "code",
   "execution_count": 1,
   "metadata": {},
   "outputs": [],
   "source": [
    "from langchain_openai import AzureChatOpenAI\n",
    "from langchain.schema import HumanMessage\n",
    "import openai\n",
    "\n",
    "from IPython.display import Markdown\n",
    "\n",
    "from dotenv import load_dotenv\n",
    "import os"
   ]
  },
  {
   "cell_type": "code",
   "execution_count": 3,
   "metadata": {},
   "outputs": [],
   "source": [
    "load_dotenv()\n",
    "# clear the old OPENAI_API_BASE environment variable to avoid error\n",
    "#del os.environ['OPENAI_API_BASE'] \n",
    "def printmd(string):\n",
    "    display(Markdown(string.replace(\"$\",\"USD \")))"
   ]
  },
  {
   "cell_type": "code",
   "execution_count": 4,
   "metadata": {},
   "outputs": [
    {
     "data": {
      "text/markdown": [
       "A solar eclipse is an astronomical event that occurs when the Moon passes between the Earth and the Sun, blocking all or part of the Sun's light from reaching the Earth. This can only happen during a new moon, when the Sun and the Moon are in conjunction as seen from Earth. Solar eclipses are significant events not only in the field of astronomy but also in various cultures and histories around the world.\n",
       "\n",
       "### Types of Solar Eclipses\n",
       "\n",
       "There are four main types of solar eclipses:\n",
       "\n",
       "1. **Total Solar Eclipse:** This occurs when the Moon completely covers the Sun, as viewed from Earth. During a total eclipse, the day becomes night for a brief period. Observers in the path of the Moon's full shadow, or umbra, can see the Sun's corona, the outer atmosphere which is otherwise hidden by the bright light of the Sun's surface.\n",
       "\n",
       "2. **Partial Solar Eclipse:** When only a part of the Sun is obscured by the Moon, it is called a partial solar eclipse. This happens when the observer is within the penumbra, or partial shadow of the Moon. The amount of the Sun covered by the Moon varies throughout the event.\n",
       "\n",
       "3. **Annular Solar Eclipse:** This occurs when the Moon is too far away from the Earth to completely cover the Sun. This results in a ring-like appearance of the Sun's edges surrounding the Moon's silhouette. The path where the annular eclipse is visible is called the path of annularity.\n",
       "\n",
       "4. **Hybrid Solar Eclipse:** Also known as an annular-total eclipse, this type transitions between a total and an annular eclipse. At certain points on Earth, it appears as a total eclipse, while at other points it appears as an annular eclipse. This is a relatively rare occurrence.\n",
       "\n",
       "### Viewing Solar Eclipses\n",
       "\n",
       "Solar eclipses are exciting to observe, but it's crucial to do so safely to prevent eye damage. Looking directly at the Sun, even during an eclipse, can cause permanent eye damage or blindness. To view a solar eclipse, one should use proper solar viewing glasses or indirect viewing methods, such as pinhole projectors.\n",
       "\n",
       "### Frequency and Predictability\n",
       "\n",
       "Solar eclipses occur at least twice a year but can occur as many as five times in a year, though this is rare. The pattern and frequency of eclipses are predictable and follow an 18-year cycle known as the Saros cycle.\n",
       "\n",
       "### Cultural and Scientific Significance\n",
       "\n",
       "Throughout history, solar eclipses have been viewed with awe and sometimes fear. Many cultures have interpreted them as important omens. Scientifically, solar eclipses have provided opportunities to study the Sun’s corona, test theories of relativity, and understand celestial mechanics better.\n",
       "\n",
       "### Future Eclipses\n",
       "\n",
       "Predictions for future eclipses are available many years in advance, allowing enthusiasts and scientists to plan observations. These events continue to fascinate and provide valuable data for astronomical research, as well as unforgettable experiences for observers around the globe."
      ],
      "text/plain": [
       "<IPython.core.display.Markdown object>"
      ]
     },
     "metadata": {},
     "output_type": "display_data"
    }
   ],
   "source": [
    "# Using AzureChatOpenAI\n",
    "os.environ[\"OPENAI_API_TYPE\"] = \"azure\"\n",
    "os.environ[\"OPENAI_API_VERSION\"] = \"2023-12-01-preview\"\n",
    "\n",
    "llm = AzureChatOpenAI(azure_deployment=\"gpt-4\")\n",
    "message = HumanMessage(\n",
    "    content=\"Tell me about solar eclipse.\"\n",
    ")\n",
    "\n",
    "result = llm.invoke([message])\n",
    "display(Markdown(result.content))"
   ]
  },
  {
   "cell_type": "code",
   "execution_count": 5,
   "metadata": {},
   "outputs": [
    {
     "data": {
      "text/markdown": [
       "A solar eclipse is an astronomical event that occurs when the Moon passes between the Earth and the Sun, thereby wholly or partly obscuring the image of the Sun for a viewer on Earth. Solar eclipses are striking phenomena that have fascinated humans throughout history, and they can be categorized into four main types: total, partial, annular, and hybrid eclipses. Each type of solar eclipse offers a unique spectacle based on the relative sizes and distances of the Earth, Moon, and Sun at the time of the eclipse.\n",
       "\n",
       "1. **Total Solar Eclipse:** This occurs when the Moon completely covers the Sun, as viewed from Earth. This can only happen during a new moon and when the Sun, Moon, and Earth are precisely aligned. During totality, the day turns into night for a brief period, and the Sun's corona, its outer atmosphere, becomes visible in a stunning display. The path of totality is typically a narrow track across the Earth's surface.\n",
       "\n",
       "2. **Partial Solar Eclipse:** In a partial solar eclipse, only a part of the Sun is obscured by the Moon. This happens when the three celestial bodies are not perfectly aligned. Viewers in areas outside the path of totality during a total or annular eclipse will also see a partial eclipse.\n",
       "\n",
       "3. **Annular Solar Eclipse:** When the Moon is too far from the Earth to completely cover the Sun, an annular eclipse occurs. This results in a ring of sunlight being visible around the Moon, creating what is often called a \"ring of fire.\" During an annular eclipse, the Sun and Moon appear nearly the same size in the sky, because the apparent size of the Moon is smaller than that of the Sun.\n",
       "\n",
       "4. **Hybrid Solar Eclipse:** This is a rare type of solar eclipse that shifts between a total and annular eclipse along its path. At certain points on Earth, it appears as a total eclipse, while at other points, it appears as an annular eclipse. The hybrid eclipse occurs due to the curvature of the Earth and the varying distances of the Moon and Sun from the Earth.\n",
       "\n",
       "Safety Note: It's important to never look directly at the Sun without appropriate eye protection during any type of solar eclipse, except during the brief total phase of a total solar eclipse, when the Sun's bright face is completely covered. Unprotected observation can lead to serious eye damage or blindness. Special eclipse glasses or solar viewers are recommended for safely observing any phase of a solar eclipse.\n",
       "\n",
       "Solar eclipses happen relatively infrequently at any given location, making them special events for astronomers and the general public alike. They also offer scientists unique opportunities to study the Sun's atmosphere and have contributed significantly to our understanding of celestial mechanics."
      ],
      "text/plain": [
       "<IPython.core.display.Markdown object>"
      ]
     },
     "metadata": {},
     "output_type": "display_data"
    }
   ],
   "source": [
    "# Using openao client\n",
    "\n",
    "result = openai.chat.completions.create(\n",
    "            model=\"gpt-4\", \n",
    "            messages = [{\"role\":\"system\", \"content\":\"Tell me about solar eclipse.\"}])\n",
    "\n",
    "display(Markdown(result.choices[0].message.content))"
   ]
  }
 ],
 "metadata": {
  "kernelspec": {
   "display_name": "chatpdf_API",
   "language": "python",
   "name": "python3"
  },
  "language_info": {
   "codemirror_mode": {
    "name": "ipython",
    "version": 3
   },
   "file_extension": ".py",
   "mimetype": "text/x-python",
   "name": "python",
   "nbconvert_exporter": "python",
   "pygments_lexer": "ipython3",
   "version": "3.12.3"
  }
 },
 "nbformat": 4,
 "nbformat_minor": 2
}
